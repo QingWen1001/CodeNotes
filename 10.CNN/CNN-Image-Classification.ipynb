{
 "cells": [
  {
   "cell_type": "markdown",
   "metadata": {},
   "source": [
    "# CNN 图像分类"
   ]
  },
  {
   "cell_type": "code",
   "execution_count": 1,
   "metadata": {},
   "outputs": [
    {
     "name": "stdout",
     "output_type": "stream",
     "text": [
      "PyTorch Version:  1.2.0\n"
     ]
    }
   ],
   "source": [
    "import torch\n",
    "import torch.nn as nn\n",
    "import torch.nn.functional as F\n",
    "import torch.optim as optim\n",
    "from torchvision import datasets, transforms\n",
    "print(\"PyTorch Version: \",torch.__version__)"
   ]
  },
  {
   "cell_type": "markdown",
   "metadata": {},
   "source": [
    "定义简单的ConvNet神经网络"
   ]
  },
  {
   "cell_type": "code",
   "execution_count": 3,
   "metadata": {},
   "outputs": [],
   "source": [
    "class Net(nn.Module):\n",
    "    def __init__(self):\n",
    "        super(Net, self).__init__()\n",
    "        '''\n",
    "         1：input channel\n",
    "         20：output channel\n",
    "         5： kernel size (单个数字时表示长宽相等的filter ，两个数字时分别表示长和宽)\n",
    "         1： stride （步长）\n",
    "        '''\n",
    "        self.conv1 = nn.Conv2d(1,20,5,1)\n",
    "        self.conv2 = nn.Conv2d(20,50,5,1)\n",
    "        self.fc1 = nn.Linear(4*4*50, 500)\n",
    "        self.fc2 = nn.Linear(500,10)\n",
    "    \n",
    "    def forward(self,x):\n",
    "         # x:1 * 28 * 28 -> 其中 1 指的是 channel 因为黑白的所以是 1 \n",
    "        x = F.relu(self.conv1(x)) # 20 * （28+1-5） * （28+1-5）--》 20 * 24 * 24\n",
    "        '''\n",
    "        max_pool2d()\n",
    "        x:input\n",
    "        2:kernel size\n",
    "        2:stride\n",
    "        '''\n",
    "        x = F.max_pool2d(x,2,2) # 使用的pooling size 是 2 所以 --》20 * 12 * 12\n",
    "        x = F.relu(self.conv2(x))# 50 * 12 * 12\n",
    "        x = F.max_pool2d(x,2,2) # 50 * 4 * 4\n",
    "        x = x.view(-1,4*4*50) # 将数据整合成二维的\n",
    "        x = F.relu(self.fc1(x))\n",
    "        x = self.fc2(x)\n",
    "        y = F.log_softmax(x,dim =1)\n",
    "        return y"
   ]
  },
  {
   "cell_type": "code",
   "execution_count": null,
   "metadata": {},
   "outputs": [],
   "source": [
    "def train(model, device, train_loader, optimizer, epoch):\n",
    "    \n",
    "    model.train()\n",
    "    for idx,(data, target) in enumerate(train_loader):\n",
    "        data, target = data.to(device), target.to(device)\n",
    "        \n",
    "        pred = model(data) # batch_size * 10\n",
    "        ''' \n",
    "        torch.nn.functional.nll_loss(input, \n",
    "                                     target,\n",
    "                                     weight=None,\n",
    "                                     size_average=None,\n",
    "                                     ignore_index=-100,\n",
    "                                     reduce=None,\n",
    "                                     reduction='mean')\n",
    "        '''\n",
    "        loss = F.nll_loss(pred,target)\n",
    "        \n",
    "        # SGD\n",
    "        optimizer.zero_grad()\n",
    "        loss.backward()\n",
    "        optimizer.step()"
   ]
  },
  {
   "cell_type": "markdown",
   "metadata": {},
   "source": [
    "加载数据集"
   ]
  },
  {
   "cell_type": "code",
   "execution_count": 7,
   "metadata": {},
   "outputs": [],
   "source": [
    "mnist_data = datasets.MNIST(\"./mnist_data\",\n",
    "                            train = True,\n",
    "                            download = True,\n",
    "                            transform = transforms.Compose([\n",
    "                                transforms.ToTensor(),\n",
    "                            ])) # 如果路径下没有数据集会自动下载"
   ]
  },
  {
   "cell_type": "code",
   "execution_count": 12,
   "metadata": {},
   "outputs": [],
   "source": [
    "# mnist data set 是 一个 dataset 包含多个方法使用 dir（mnist_data） 查看 mnist_data 的方法\n",
    "#dir(mnist_data)\n",
    "#mnist_data[2][0] #可以查看数据集的图片\n",
    "device = torch.device(\"cuda\" if torch.cuda.is_available() else \"cpu\")\n",
    "BATCH_SIZE = 32\n",
    "train_dataloader = torch.utils.data.DataLoader(\n",
    "    datasets.MNIST(\"./mnist_data\",\n",
    "                            train = True,\n",
    "                            download = True,\n",
    "                            transform = transforms.Compose([\n",
    "                                transforms.ToTensor(),\n",
    "                            ])),\n",
    "    batch_size = BATCH_SIZE,\n",
    "    shuffle = True,\n",
    "    num_workers = 1,\n",
    "    pin_memory = True\n",
    "\n",
    ")"
   ]
  },
  {
   "cell_type": "markdown",
   "metadata": {},
   "source": [
    "超参数"
   ]
  },
  {
   "cell_type": "code",
   "execution_count": 14,
   "metadata": {},
   "outputs": [],
   "source": [
    "lr = 0.01\n",
    "momentum = 0.5\n",
    "\n",
    "model = Net().to(device)\n",
    "optimizer = torch.optim.SGD(model.parameters(), lr = lr, momentum = momentum)\n",
    "num_epochs = 2"
   ]
  },
  {
   "cell_type": "code",
   "execution_count": null,
   "metadata": {},
   "outputs": [],
   "source": [
    "for epoch in range(num_epochs):\n",
    "    train(model, device, train_loader, optimizer, epoch)\n",
    "    test(model, device, text_loader)\n",
    "    \n",
    "torch.save(model.state_dict(),\"mnist_cnn.pt\")"
   ]
  }
 ],
 "metadata": {
  "kernelspec": {
   "display_name": "Python 3",
   "language": "python",
   "name": "python3"
  },
  "language_info": {
   "codemirror_mode": {
    "name": "ipython",
    "version": 3
   },
   "file_extension": ".py",
   "mimetype": "text/x-python",
   "name": "python",
   "nbconvert_exporter": "python",
   "pygments_lexer": "ipython3",
   "version": "3.7.3"
  }
 },
 "nbformat": 4,
 "nbformat_minor": 2
}
