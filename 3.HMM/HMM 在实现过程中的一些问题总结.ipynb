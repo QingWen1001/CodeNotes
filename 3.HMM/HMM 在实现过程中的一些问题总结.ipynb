{
 "cells": [
  {
   "cell_type": "markdown",
   "metadata": {},
   "source": [
    "## 测试集中出现训练时未出现的字、词的处理方法\n",
    "   根据 HMM 的计算过程可以看到，当我们在对测试序列进行标注的时候，是通过 前一刻状态的概率 * 状态转移概率 * 发射概率 得到的\n",
    "<br>   如果当前的字是训练过程中未出现的字时就没有发射概率\n",
    "<br>   这时在本次复现时使用的解决方法是，认为所有状态发射当前字的概率都是相同的，这里取值为1是为了方便计算。\n",
    "## HMM 的缺点\n",
    "通过训练我们可以看到，hmm 训练是只依靠前一个时刻的状态 来确定当前的状态的，这种训练方式在数据集较小的情况下得到的结果还可以，但面对一个大的数据集，命名实体的规则非常复杂 hmm 的效果就不太好了。\n",
    "<br>CRF 通过特征方程的形式，同时考虑到了多种的形式的特征，hmm 的特征形式只算其中之一。\n",
    "## HMM 的难点在于参数估计\n",
    "HMM CRF ... 隐变量模型的难点在于 参数估计，参数估计需要用到 EM 算法进行求解。\n",
    "<br> 代码只复现了 HMM 的推理，并未复现 参数估计"
   ]
  },
  {
   "cell_type": "code",
   "execution_count": null,
   "metadata": {},
   "outputs": [],
   "source": []
  }
 ],
 "metadata": {
  "kernelspec": {
   "display_name": "Python 3",
   "language": "python",
   "name": "python3"
  },
  "language_info": {
   "codemirror_mode": {
    "name": "ipython",
    "version": 3
   },
   "file_extension": ".py",
   "mimetype": "text/x-python",
   "name": "python",
   "nbconvert_exporter": "python",
   "pygments_lexer": "ipython3",
   "version": "3.7.0"
  }
 },
 "nbformat": 4,
 "nbformat_minor": 2
}
