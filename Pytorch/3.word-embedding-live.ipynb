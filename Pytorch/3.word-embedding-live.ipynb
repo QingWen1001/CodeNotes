{
 "cells": [
  {
   "cell_type": "markdown",
   "metadata": {},
   "source": [
    "# 词向量\n",
    "- 学习词向量的概念\n",
    "- 使用 skip-thought 模型训练词向量\n",
    "- 使用 pytorch dataset 和 dataloader\n",
    "- 学习定义 pytorch 模型\n",
    "- 学习torch。nn 中的 Module\n",
    "  -  Embedding\n",
    "- 学习常见的 pytorch 的 operations\n",
    "  - bmm\n",
    "  - logsigmoid\n",
    "- 保存和读取 pytorch 模型"
   ]
  },
  {
   "cell_type": "code",
   "execution_count": null,
   "metadata": {},
   "outputs": [],
   "source": []
  }
 ],
 "metadata": {
  "kernelspec": {
   "display_name": "Python 3",
   "language": "python",
   "name": "python3"
  },
  "language_info": {
   "codemirror_mode": {
    "name": "ipython",
    "version": 3
   },
   "file_extension": ".py",
   "mimetype": "text/x-python",
   "name": "python",
   "nbconvert_exporter": "python",
   "pygments_lexer": "ipython3",
   "version": "3.7.0"
  }
 },
 "nbformat": 4,
 "nbformat_minor": 2
}
